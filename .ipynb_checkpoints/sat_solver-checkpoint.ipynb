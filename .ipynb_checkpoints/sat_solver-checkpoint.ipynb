{
 "cells": [
  {
   "cell_type": "code",
   "execution_count": 3,
   "metadata": {
    "collapsed": true
   },
   "outputs": [],
   "source": [
    "%run sat_generator.ipynb"
   ]
  },
  {
   "cell_type": "code",
   "execution_count": 2,
   "metadata": {
    "collapsed": true
   },
   "outputs": [],
   "source": [
    "def simulated_annealing_sat_solver(sat_instance):\n",
    "    pass"
   ]
  },
  {
   "cell_type": "code",
   "execution_count": null,
   "metadata": {
    "collapsed": true
   },
   "outputs": [],
   "source": [
    "def gibbs_sampler_sat_solver(sat_instance):\n",
    "    pass"
   ]
  },
  {
   "cell_type": "code",
   "execution_count": 4,
   "metadata": {
    "collapsed": true
   },
   "outputs": [],
   "source": [
    "import random\n",
    "import math\n",
    "import copy"
   ]
  },
  {
   "cell_type": "code",
   "execution_count": 5,
   "metadata": {},
   "outputs": [
    {
     "name": "stdout",
     "output_type": "stream",
     "text": [
      "{(x1, False) or (~x2, True) or (~x0, True)}\n",
      "{(x1, False) or (~x0, True) or (~x2, True)}\n",
      "{(x2, False) or (~x0, True) or (~x1, True)}\n",
      "{(x1, False) or (~x2, True) or (x0, False)}\n",
      "{(x1, False) or (~x0, True) or (x2, False)}\n",
      "{(x0, False) or (x1, False) or (~x2, True)}\n",
      "{(~x2, True) or (x1, False) or (~x0, True)}\n",
      "{(~x2, True) or (~x0, True) or (x1, False)}\n"
     ]
    }
   ],
   "source": [
    "factory = SAT_Factory(3, 8)\n",
    "s = factory.generate_fixed_instance()\n",
    "print(s)"
   ]
  },
  {
   "cell_type": "code",
   "execution_count": 10,
   "metadata": {},
   "outputs": [
    {
     "name": "stdout",
     "output_type": "stream",
     "text": [
      "[<__main__.Variable object at 0x1065fdc50>, <__main__.Variable object at 0x1065fd940>, <__main__.Variable object at 0x1065fde10>]\n"
     ]
    }
   ],
   "source": [
    "variables_in_s = s.get_variables()\n",
    "print(variables_in_s)"
   ]
  },
  {
   "cell_type": "code",
   "execution_count": 20,
   "metadata": {
    "collapsed": true
   },
   "outputs": [],
   "source": [
    "def flip_optimal(random_clause, clauses):\n",
    "    variables_in_random_clause = random_clause.get_variables()\n",
    "    max_sat_count = -math.inf\n",
    "    max_sat_var = random.choice(list(variables_in_random_clause))\n",
    "    for v in variables_in_random_clause:\n",
    "        sat_count = 0\n",
    "        curr_v_val = v.get_val()\n",
    "        for c in clauses:\n",
    "            c_copy = Clause(c.variables.copy())\n",
    "            for var_copy in c_copy.variables:\n",
    "                if var_copy == v:\n",
    "                    var_copy.set_val(1 - curr_v_val)\n",
    "            if c_copy.is_satisfied():\n",
    "                sat_count += 1\n",
    "        if sat_count > max_sat_count:\n",
    "            max_sat_count = sat_count\n",
    "            max_sat_var = v\n",
    "    return max_sat_var"
   ]
  },
  {
   "cell_type": "code",
   "execution_count": 21,
   "metadata": {
    "collapsed": true
   },
   "outputs": [],
   "source": [
    "def mc_sat(clauses, weights, num_samples):\n",
    "    # random solution: satisfy hard clauses\n",
    "    x = SAT(set(clauses))\n",
    "    variables_in_s = s.get_variables()\n",
    "    p = 0.7\n",
    "    # set all variables to random 0 / 1\n",
    "    for v in variables_in_s:\n",
    "        v.set_val(random.choice([0, 1]))\n",
    "    for i in range(num_samples):\n",
    "        M = []\n",
    "        k = 0\n",
    "        for c in x.clauses: # all clauses satisfied by x^(i - 1)\n",
    "            if c.is_satisfied():\n",
    "                p = random.random() # 1 - e^(-w_k)\n",
    "                if p > math.e**(weights[k]):\n",
    "                    M.append(c)\n",
    "            k += 1\n",
    "        # sample x_i from U_SAT(M)\n",
    "        # pick a clause unsatisfied by current assignment\n",
    "        not_M_C = [c for c in clauses if c not in M]\n",
    "        random_clause = random.choice(not_M_C)\n",
    "        flip_prob = random.random()\n",
    "        # p: flip variable that will result in fewest previously satisfied clauses becoming unsatisfied\n",
    "        # 1 - p: flip variable at random\n",
    "        if flip_prob < p:\n",
    "            flip_var = flip_optimal(random_clause, clauses)\n",
    "        else:\n",
    "            random_flipped_idx = math.floor(random.random() * len(variables_in_s))\n",
    "            flip_var = variables_in_s[random_flipped_idx]\n",
    "        curr_val = flip_var.get_val()\n",
    "        flip_var.set_val(1 - curr_val)\n",
    "    print(x.is_satisfied())\n",
    "    return x"
   ]
  },
  {
   "cell_type": "code",
   "execution_count": 27,
   "metadata": {},
   "outputs": [
    {
     "name": "stdout",
     "output_type": "stream",
     "text": [
      "[<__main__.Clause object at 0x10c1bfc50>, <__main__.Clause object at 0x10c0d2668>, <__main__.Clause object at 0x1139140b8>, <__main__.Clause object at 0x10c1bfac8>, <__main__.Clause object at 0x10a9e86d8>, <__main__.Clause object at 0x10c1bfcc0>, <__main__.Clause object at 0x10a9dacf8>, <__main__.Clause object at 0x10c1bf940>]\n",
      "False\n",
      "{(x1, False) or (~x2, False) or (~x0, False)}\n",
      "{(x1, False) or (~x0, False) or (~x2, False)}\n",
      "{(x2, True) or (~x0, False) or (~x1, True)}\n",
      "{(x1, False) or (~x2, False) or (x0, True)}\n",
      "{(x1, False) or (~x0, False) or (x2, True)}\n",
      "{(x0, True) or (x1, False) or (~x2, False)}\n",
      "{(~x2, False) or (x1, False) or (~x0, False)}\n",
      "{(~x2, False) or (~x0, False) or (x1, False)}\n"
     ]
    }
   ],
   "source": [
    "clauses = list(s.clauses)\n",
    "print(clauses)\n",
    "print(mc_sat(clauses, [1 for i in clauses], 5000))"
   ]
  },
  {
   "cell_type": "code",
   "execution_count": null,
   "metadata": {
    "collapsed": true
   },
   "outputs": [],
   "source": []
  },
  {
   "cell_type": "code",
   "execution_count": null,
   "metadata": {
    "collapsed": true
   },
   "outputs": [],
   "source": []
  }
 ],
 "metadata": {
  "kernelspec": {
   "display_name": "Python 3",
   "language": "python",
   "name": "python3"
  },
  "language_info": {
   "codemirror_mode": {
    "name": "ipython",
    "version": 3
   },
   "file_extension": ".py",
   "mimetype": "text/x-python",
   "name": "python",
   "nbconvert_exporter": "python",
   "pygments_lexer": "ipython3",
   "version": "3.6.3"
  }
 },
 "nbformat": 4,
 "nbformat_minor": 2
}
