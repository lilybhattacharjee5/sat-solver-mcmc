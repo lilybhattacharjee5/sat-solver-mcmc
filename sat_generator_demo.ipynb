{
 "cells": [
  {
   "cell_type": "code",
   "execution_count": 4,
   "metadata": {
    "collapsed": true
   },
   "outputs": [],
   "source": [
    "%run sat_generator.ipynb"
   ]
  },
  {
   "cell_type": "code",
   "execution_count": 5,
   "metadata": {},
   "outputs": [
    {
     "name": "stdout",
     "output_type": "stream",
     "text": [
      "{(~x1, True) or (x0, False) or (~x2, True)}\n",
      "{(x0, False) or (~x1, True) or (~x2, True)}\n",
      "{(~x2, True) or (x0, False) or (x1, False)}\n",
      "{(x0, False) or (~x1, True) or (~x2, True)}\n",
      "{(x1, False) or (~x0, True) or (~x2, True)}\n",
      "{(~x2, True) or (x0, False) or (x1, False)}\n",
      "{(~x0, True) or (~x2, True) or (~x1, True)}\n",
      "{(x2, False) or (~x0, True) or (~x1, True)}\n",
      "\n",
      "Is this SAT instance satisfied? True\n"
     ]
    }
   ],
   "source": [
    "# Generate a SAT instance of 8 clauses with 3 variables each\n",
    "Variable.reset_id()\n",
    "factory = SAT_Factory(3, 8)\n",
    "s = factory.generate_fixed_instance()\n",
    "\n",
    "print(s)\n",
    "print()\n",
    "print(\"Is this SAT instance satisfied?\", s.is_satisfied())"
   ]
  },
  {
   "cell_type": "code",
   "execution_count": 3,
   "metadata": {},
   "outputs": [
    {
     "name": "stdout",
     "output_type": "stream",
     "text": [
      "Variables to assign: x0, x1, x2\n"
     ]
    }
   ],
   "source": [
    "# Find out which variables we need to set \n",
    "variables_in_s = s.get_variables()\n",
    "print(\"Variables to assign:\", \", \".join([str(v) for v in variables_in_s]))"
   ]
  },
  {
   "cell_type": "code",
   "execution_count": 4,
   "metadata": {},
   "outputs": [
    {
     "name": "stdout",
     "output_type": "stream",
     "text": [
      "{(~x0, True) or (x1, False) or (x2, True)}\n",
      "{(x2, True) or (~x1, True) or (x0, False)}\n",
      "{(x0, False) or (x2, True) or (~x1, True)}\n",
      "{(~x0, True) or (~x1, True) or (~x2, False)}\n",
      "{(~x1, True) or (x0, False) or (x2, True)}\n",
      "{(~x1, True) or (~x0, True) or (~x2, False)}\n",
      "{(x1, False) or (x2, True) or (x0, False)}\n",
      "{(~x0, True) or (~x2, False) or (x1, False)}\n",
      "\n",
      "Is this SAT instance satisfied? True\n"
     ]
    }
   ],
   "source": [
    "# One way to assign variables\n",
    "variables_in_s[0].set_val(0)\n",
    "variables_in_s[1].set_val(0)\n",
    "variables_in_s[2].set_val(1)\n",
    "\n",
    "print(s)\n",
    "print()\n",
    "print(\"Is this SAT instance satisfied?\", s.is_satisfied())"
   ]
  },
  {
   "cell_type": "code",
   "execution_count": 5,
   "metadata": {},
   "outputs": [
    {
     "name": "stdout",
     "output_type": "stream",
     "text": [
      "Clauses satisfied with given assignment: 8\n",
      "Is this SAT instance satisfied? True\n"
     ]
    }
   ],
   "source": [
    "# Here's another way to assign variables\n",
    "print(\"Clauses satisfied with given assignment:\", s.try_assignment([0, 0, 1]))\n",
    "print(\"Is this SAT instance satisfied?\", s.is_satisfied())"
   ]
  },
  {
   "cell_type": "code",
   "execution_count": 6,
   "metadata": {},
   "outputs": [
    {
     "name": "stdout",
     "output_type": "stream",
     "text": [
      "(x0, 0) (x1, 1) (x2, None)\n",
      "\n",
      "{(x0, False) or (x1, True) or (x2, False)}\n",
      "{(x1, True) or (x2, False) or (x0, False)}\n",
      "{(~x2, True) or (x0, False) or (x1, True)}\n",
      "\n",
      "{(~x2, True) or (x0, False) or (x1, True)}\n",
      "{(x0, False) or (x1, True) or (x2, False)}\n",
      "{(x1, True) or (x2, False) or (x0, False)}\n"
     ]
    }
   ],
   "source": [
    "# A different example\n",
    "Variable.reset_id()\n",
    "x0 = Variable(0)\n",
    "x1 = Variable(1)\n",
    "x2 = Variable(None)\n",
    "print(Variable.__str__(x0, True), Variable.__str__(x1, True), Variable.__str__(x2, True))\n",
    "print()\n",
    "\n",
    "c0 = Clause([(x0, 0), (x1, 0), (x2, 0)])\n",
    "c1 = Clause([(x1, 0), (x2, 0), (x0, 0)])\n",
    "c2 = Clause([(x2, 1), (x0, 0), (x1, 0)])\n",
    "print(c0)\n",
    "print(c1)\n",
    "print(c2)\n",
    "print()\n",
    "\n",
    "s = SAT(set([c0, c1, c2]))\n",
    "print(s)"
   ]
  },
  {
   "cell_type": "code",
   "execution_count": null,
   "metadata": {
    "collapsed": true
   },
   "outputs": [],
   "source": []
  }
 ],
 "metadata": {
  "kernelspec": {
   "display_name": "Python 3",
   "language": "python",
   "name": "python3"
  }
 },
 "nbformat": 4,
 "nbformat_minor": 2
}
